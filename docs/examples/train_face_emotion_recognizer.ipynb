{
 "cells": [
  {
   "cell_type": "markdown",
   "metadata": {},
   "source": [
    "# Face emotion recognition training\n",
    "\n",
    "This notebooks shows how to train a face emotion recognition model on top of ArcFace face features"
   ]
  },
  {
   "cell_type": "markdown",
   "metadata": {},
   "source": [
    "Import MTCNN and ArcFace modules from `mlmodule`\n"
   ]
  },
  {
   "cell_type": "code",
   "execution_count": 1,
   "metadata": {},
   "outputs": [],
   "source": [
    "from mlmodule.models.arcface.modules import TorchArcFaceModule\n",
    "from mlmodule.models.mtcnn.modules import TorchMTCNNModule\n",
    "from mlmodule.torch.options import TorchRunnerOptions\n",
    "from mlmodule.torch.runners import TorchInferenceRunner\n",
    "from mlmodule.callbacks.memory import (\n",
    "    CollectBoundingBoxesInMemory,\n",
    "    CollectFeaturesInMemory,\n",
    ")\n",
    "from mlmodule.torch.datasets import (\n",
    "    ImageBoundingBoxDataset,\n",
    "    ListDataset,\n",
    "    ListDatasetIndexed,\n",
    ")\n",
    "from mlmodule.states import StateKey\n",
    "from mlmodule.stores import Store\n"
   ]
  },
  {
   "cell_type": "markdown",
   "metadata": {},
   "source": [
    "Enable logging inside notebook"
   ]
  },
  {
   "cell_type": "code",
   "execution_count": 2,
   "metadata": {},
   "outputs": [],
   "source": [
    "import logging\n",
    "import sys\n",
    "\n",
    "logging.basicConfig(format='%(asctime)s | %(levelname)s : %(message)s',\n",
    "                     level=logging.INFO, stream=sys.stdout)"
   ]
  },
  {
   "cell_type": "markdown",
   "metadata": {},
   "source": [
    "Load a dataset containing images of faces annotated with emotion labels\n",
    "\n",
    "We should first download [FER2013](https://www.kaggle.com/competitions/challenges-in-representation-learning-facial-expression-recognition-challenge/data) dataset from Kaggle and unzip `train.csv` and `test.csv` files.\n"
   ]
  },
  {
   "cell_type": "code",
   "execution_count": 3,
   "metadata": {},
   "outputs": [
    {
     "ename": "ImportError",
     "evalue": "cannot import name 'FER2013' from 'torchvision.datasets' (/usr/local/Caskroom/miniconda/base/envs/mlmodule/lib/python3.7/site-packages/torchvision/datasets/__init__.py)",
     "output_type": "error",
     "traceback": [
      "\u001b[0;31m---------------------------------------------------------------------------\u001b[0m",
      "\u001b[0;31mImportError\u001b[0m                               Traceback (most recent call last)",
      "\u001b[0;32m<ipython-input-3-cc7bd92f5129>\u001b[0m in \u001b[0;36m<module>\u001b[0;34m\u001b[0m\n\u001b[1;32m      1\u001b[0m \u001b[0;32mimport\u001b[0m \u001b[0mos\u001b[0m\u001b[0;34m\u001b[0m\u001b[0;34m\u001b[0m\u001b[0m\n\u001b[0;32m----> 2\u001b[0;31m \u001b[0;32mfrom\u001b[0m \u001b[0mtorchvision\u001b[0m\u001b[0;34m.\u001b[0m\u001b[0mdatasets\u001b[0m \u001b[0;32mimport\u001b[0m \u001b[0mFER2013\u001b[0m\u001b[0;34m\u001b[0m\u001b[0;34m\u001b[0m\u001b[0m\n\u001b[0m\u001b[1;32m      3\u001b[0m \u001b[0;34m\u001b[0m\u001b[0m\n\u001b[1;32m      4\u001b[0m \u001b[0mpath_to_fer2013\u001b[0m \u001b[0;34m=\u001b[0m \u001b[0mos\u001b[0m\u001b[0;34m.\u001b[0m\u001b[0mpath\u001b[0m\u001b[0;34m.\u001b[0m\u001b[0mjoin\u001b[0m\u001b[0;34m(\u001b[0m\u001b[0mos\u001b[0m\u001b[0;34m.\u001b[0m\u001b[0menviron\u001b[0m\u001b[0;34m[\u001b[0m\u001b[0;34m\"HOME\"\u001b[0m\u001b[0;34m]\u001b[0m\u001b[0;34m,\u001b[0m \u001b[0;34m'torchvision-datasets'\u001b[0m\u001b[0;34m)\u001b[0m\u001b[0;34m\u001b[0m\u001b[0;34m\u001b[0m\u001b[0m\n\u001b[1;32m      5\u001b[0m \u001b[0mtrain_set\u001b[0m \u001b[0;34m=\u001b[0m \u001b[0mFER2013\u001b[0m\u001b[0;34m(\u001b[0m\u001b[0mroot\u001b[0m\u001b[0;34m=\u001b[0m\u001b[0mpath_to_fer2013\u001b[0m\u001b[0;34m,\u001b[0m \u001b[0msplit\u001b[0m\u001b[0;34m=\u001b[0m\u001b[0;34m\"train\"\u001b[0m\u001b[0;34m)\u001b[0m\u001b[0;34m\u001b[0m\u001b[0;34m\u001b[0m\u001b[0m\n",
      "\u001b[0;31mImportError\u001b[0m: cannot import name 'FER2013' from 'torchvision.datasets' (/usr/local/Caskroom/miniconda/base/envs/mlmodule/lib/python3.7/site-packages/torchvision/datasets/__init__.py)"
     ]
    }
   ],
   "source": [
    "import os\n",
    "from torchvision.datasets import FER2013\n",
    "\n",
    "path_to_fer2013 = os.path.join(os.environ[\"HOME\"], 'torchvision-datasets')\n",
    "train_set = FER2013(root=path_to_fer2013, split=\"train\")"
   ]
  },
  {
   "cell_type": "code",
   "execution_count": null,
   "metadata": {},
   "outputs": [],
   "source": [
    "# Training images\n",
    "labels_dict = {0:\"Angry\", 1:\"Disgust\", 2:\"Fear\", 3:\"Happy\", 4:\"Sad\", 5:\"Surprise\", 6:\"Neutral\"}\n",
    "train_samples = [(img.convert(\"RGB\"), labels_dict[label]) for img, label in train_set]\n",
    "train_images, train_labels = zip(*train_samples)"
   ]
  },
  {
   "cell_type": "markdown",
   "metadata": {},
   "source": [
    "Run face detection on the images with `TorchMTCNNModule`\n"
   ]
  },
  {
   "cell_type": "code",
   "execution_count": null,
   "metadata": {},
   "outputs": [],
   "source": [
    "torch_device = \"cuda\"\n",
    "model = TorchMTCNNModule(device=torch_device)\n",
    "Store().load(model, StateKey(model.state_type, training_id=\"facenet\"))\n",
    "\n",
    "# Callbacks\n",
    "bb = CollectBoundingBoxesInMemory()\n",
    "\n",
    "# Runner\n",
    "runner = TorchInferenceRunner(\n",
    "    model=model,\n",
    "    dataset=ListDataset(train_images),\n",
    "    callbacks=[bb],\n",
    "    options=TorchRunnerOptions(\n",
    "        data_loader_options={'batch_size': 32},\n",
    "        device=torch_device,\n",
    "        tqdm_enabled=True\n",
    "    ),\n",
    ")\n",
    "runner.run()\n"
   ]
  },
  {
   "cell_type": "markdown",
   "metadata": {},
   "source": [
    "Extract face features with `TorchArcFaceModule`\n"
   ]
  },
  {
   "cell_type": "code",
   "execution_count": null,
   "metadata": {},
   "outputs": [],
   "source": [
    "arcface = TorchArcFaceModule(device=torch_device)\n",
    "Store().load(arcface, StateKey(arcface.state_type, training_id=\"insightface\"))\n",
    "\n",
    "# Dataset\n",
    "dataset = ImageBoundingBoxDataset(\n",
    "    image_dataset=ListDatasetIndexed(indices=bb.indices, objects=train_images),\n",
    "    bounding_boxes=bb.bounding_boxes,\n",
    ")\n",
    "\n",
    "# Callbacks\n",
    "ff = CollectFeaturesInMemory()\n",
    "\n",
    "# Runner\n",
    "runner = TorchInferenceRunner(\n",
    "    model=arcface,\n",
    "    dataset=dataset,\n",
    "    callbacks=[ff],\n",
    "    options=TorchRunnerOptions(\n",
    "        data_loader_options={'batch_size': 32},\n",
    "        device=torch_device,\n",
    "        tqdm_enabled=True\n",
    "    ),\n",
    ")\n",
    "runner.run()"
   ]
  },
  {
   "cell_type": "markdown",
   "metadata": {},
   "source": [
    "Training of a linear classifier on top of the face features"
   ]
  },
  {
   "cell_type": "markdown",
   "metadata": {},
   "source": [
    "Import the module for training"
   ]
  },
  {
   "cell_type": "code",
   "execution_count": null,
   "metadata": {},
   "outputs": [],
   "source": [
    "from mlmodule.models.classification import LinearClassifierTorchModule\n",
    "from mlmodule.torch.datasets import TorchTrainingDataset\n",
    "from mlmodule.torch.runners import TorchTrainingRunner\n",
    "from mlmodule.torch.options import TorchTrainingOptions\n",
    "from mlmodule.labels.base import LabelSet"
   ]
  },
  {
   "cell_type": "code",
   "execution_count": null,
   "metadata": {},
   "outputs": [],
   "source": [
    "import torch\n",
    "import torch.nn.functional as F\n",
    "import torch.nn as nn\n",
    "import torch.optim as optim"
   ]
  },
  {
   "cell_type": "code",
   "execution_count": null,
   "metadata": {},
   "outputs": [],
   "source": []
  },
  {
   "cell_type": "markdown",
   "metadata": {},
   "source": [
    "Define the training dataset"
   ]
  },
  {
   "cell_type": "markdown",
   "metadata": {},
   "source": [
    "Define the labels"
   ]
  },
  {
   "cell_type": "code",
   "execution_count": null,
   "metadata": {},
   "outputs": [],
   "source": [
    "labels = list(labels_dict.values())\n",
    "labels.sort()\n",
    "label_set = LabelSet(\n",
    "            label_set_unique_id=\"emotion\",\n",
    "            label_list=labels\n",
    "        )"
   ]
  },
  {
   "cell_type": "code",
   "execution_count": null,
   "metadata": {},
   "outputs": [],
   "source": [
    "# split samples into train and valid sets\n",
    "train_indices, valid_indices = torch.split(torch.randperm(len(ff.indices)), int(len(ff.indices)*.9))\n",
    "# define training set\n",
    "train_dset = TorchTrainingDataset(\n",
    "    dataset=ListDatasetIndexed(train_indices, ff.features[train_indices]),\n",
    "    targets=label_set.get_label_ids([train_labels[idx] for idx in train_indices])\n",
    ")\n",
    "# define valid set\n",
    "valid_dset = TorchTrainingDataset(\n",
    "    dataset=ListDatasetIndexed(valid_indices, ff.features[valid_indices]),\n",
    "    targets=label_set.get_label_ids([train_labels[idx] for idx in valid_indices])\n",
    ")"
   ]
  },
  {
   "cell_type": "markdown",
   "metadata": {},
   "source": [
    "Define the linear classifier"
   ]
  },
  {
   "cell_type": "code",
   "execution_count": null,
   "metadata": {},
   "outputs": [],
   "source": [
    "in_features = len(ff.features[0])\n",
    "\n",
    "classifier = LinearClassifierTorchModule(\n",
    "    in_features=in_features,\n",
    "    label_set=label_set\n",
    ")"
   ]
  },
  {
   "cell_type": "markdown",
   "metadata": {},
   "source": [
    "Define the trainer"
   ]
  },
  {
   "cell_type": "code",
   "execution_count": null,
   "metadata": {},
   "outputs": [],
   "source": [
    "from ignite.metrics import Precision, Recall, Loss, Accuracy\n",
    "\n",
    "precision = Precision(average=False)\n",
    "recall = Recall(average=False)\n",
    "F1 = (precision * recall * 2 / (precision + recall)).mean()\n",
    "\n",
    "loss_fn =  F.cross_entropy\n",
    "trainer = TorchTrainingRunner(\n",
    "    model=classifier,\n",
    "    dataset=(train_dset, valid_dset),\n",
    "    callbacks=[],\n",
    "    options=TorchTrainingOptions(\n",
    "        data_loader_options={'batch_size': 32},\n",
    "        criterion=loss_fn,\n",
    "        optimizer=optim.Adam(classifier.parameters(), lr=1e-3),\n",
    "        metrics={\n",
    "            \"pre\": precision,\n",
    "            \"recall\": recall,\n",
    "            \"f1\": F1,\n",
    "            \"acc\": Accuracy(),\n",
    "            \"ce_loss\": Loss(loss_fn),\n",
    "        },\n",
    "        validate_every=1,\n",
    "        num_epoch=5,\n",
    "        tqdm_enabled=True\n",
    "    ),\n",
    ")\n",
    "trainer.run()"
   ]
  }
 ],
 "metadata": {
  "interpreter": {
   "hash": "ce546f547b4951e5134bea5436654c55db2fc56665558813e55e8a048d40e22c"
  },
  "jupytext": {
   "formats": "ipynb,md"
  },
  "kernelspec": {
   "display_name": "Python 3.7.10 ('mlmodule')",
   "language": "python",
   "name": "python3"
  },
  "language_info": {
   "codemirror_mode": {
    "name": "ipython",
    "version": 3
   },
   "file_extension": ".py",
   "mimetype": "text/x-python",
   "name": "python",
   "nbconvert_exporter": "python",
   "pygments_lexer": "ipython3",
   "version": "3.7.10"
  }
 },
 "nbformat": 4,
 "nbformat_minor": 2
}
