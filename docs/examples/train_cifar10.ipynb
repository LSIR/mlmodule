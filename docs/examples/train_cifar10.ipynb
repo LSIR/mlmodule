{
 "cells": [
  {
   "cell_type": "markdown",
   "metadata": {},
   "source": [
    "# CIFAR10 Image Classification training\n",
    "\n",
    "In this notebook, we are training CIFAR10 image classification on top of ResNet18 features from ImageNet"
   ]
  },
  {
   "cell_type": "markdown",
   "metadata": {},
   "source": [
    "Import `mlmodule` modules for the task"
   ]
  },
  {
   "cell_type": "code",
   "execution_count": null,
   "metadata": {},
   "outputs": [],
   "source": [
    "from mlmodule.models.resnet.modules import TorchResNetModule\n",
    "from mlmodule.models.classification import LinearClassifierTorchModule\n",
    "from mlmodule.torch.datasets import TorchTrainingDataset\n",
    "from mlmodule.torch.runners import TorchTrainingRunner\n",
    "from mlmodule.torch.runners import TorchInferenceRunner\n",
    "from mlmodule.torch.options import TorchTrainingOptions\n",
    "from mlmodule.torch.options import TorchRunnerOptions\n",
    "from mlmodule.labels.base import LabelSet\n",
    "from mlmodule.callbacks.memory import (\n",
    "    CollectFeaturesInMemory,\n",
    ")\n",
    "from mlmodule.torch.datasets import (\n",
    "    ListDataset,\n",
    "    ListDatasetIndexed,\n",
    ")\n",
    "from mlmodule.states import StateKey\n",
    "from mlmodule.stores import Store"
   ]
  },
  {
   "cell_type": "markdown",
   "metadata": {},
   "source": [
    "Enable logging into notebook"
   ]
  },
  {
   "cell_type": "code",
   "execution_count": null,
   "metadata": {},
   "outputs": [],
   "source": [
    "import logging\n",
    "import sys\n",
    "\n",
    "logging.basicConfig(format='%(asctime)s | %(levelname)s : %(message)s',\n",
    "                     level=logging.INFO, stream=sys.stdout)"
   ]
  },
  {
   "cell_type": "markdown",
   "metadata": {},
   "source": [
    "Load CIFAR10 dataset from torchvision"
   ]
  },
  {
   "cell_type": "code",
   "execution_count": null,
   "metadata": {},
   "outputs": [],
   "source": [
    "import os\n",
    "from torchvision.datasets import CIFAR10\n",
    "\n",
    "root_dir = os.path.join(os.environ[\"HOME\"], 'torchvision-datasets')\n",
    "train_cifar10 = CIFAR10(root=root_dir, train=True, download=True,  transform=None)"
   ]
  },
  {
   "cell_type": "markdown",
   "metadata": {},
   "source": [
    "Format inputs and labels for `mlmodule`"
   ]
  },
  {
   "cell_type": "code",
   "execution_count": null,
   "metadata": {},
   "outputs": [],
   "source": [
    "labels_dict = {0:\"airplane\", 1:\"automobile\", 2:\"bird\", 3:\"cat\", 4:\"deer\", 5:\"dog\", 6:\"frog\", 7:\"horse\", 8:\"ship\", 9:\"truck\"}\n",
    "train_samples = [(img, labels_dict[label]) for img, label in train_cifar10]\n",
    "train_images, train_labels = zip(*train_samples)"
   ]
  },
  {
   "cell_type": "markdown",
   "metadata": {},
   "source": [
    "Load `resnet18` pre-trained model"
   ]
  },
  {
   "cell_type": "code",
   "execution_count": null,
   "metadata": {},
   "outputs": [],
   "source": [
    "torch_device = \"cuda\"\n",
    "resnet = TorchResNetModule(\n",
    "    resnet_arch=\"resnet18\",\n",
    "    device=torch_device,\n",
    "    training_mode=\"features\"\n",
    ")\n",
    "Store().load(resnet, StateKey(resnet.state_type, training_id=\"imagenet\"))\n"
   ]
  },
  {
   "cell_type": "markdown",
   "metadata": {},
   "source": [
    "Extract image features"
   ]
  },
  {
   "cell_type": "code",
   "execution_count": null,
   "metadata": {},
   "outputs": [],
   "source": [
    "# Callbacks\n",
    "ff = CollectFeaturesInMemory()\n",
    "\n",
    "# Runner\n",
    "runner = TorchInferenceRunner(\n",
    "    model=resnet,\n",
    "    dataset=ListDataset(train_images),\n",
    "    callbacks=[ff],\n",
    "    options=TorchRunnerOptions(\n",
    "        data_loader_options={'batch_size': 32},\n",
    "        device=torch_device,\n",
    "        tqdm_enabled=True\n",
    "    ),\n",
    ")\n",
    "runner.run()"
   ]
  },
  {
   "cell_type": "markdown",
   "metadata": {},
   "source": [
    "Create a linear classifier on top of ResNet features"
   ]
  },
  {
   "cell_type": "code",
   "execution_count": null,
   "metadata": {},
   "outputs": [],
   "source": [
    "from mlmodule.models.classification import LinearClassifierTorchModule\n",
    "\n",
    "labels = list(labels_dict.values())\n",
    "labels.sort()\n",
    "label_set = LabelSet(\n",
    "            label_set_unique_id=\"cifar10\",\n",
    "            label_list=labels\n",
    "        )\n",
    "\n",
    "classifier = LinearClassifierTorchModule(\n",
    "    in_features=ff.features.shape[1],\n",
    "    label_set=label_set\n",
    ")"
   ]
  },
  {
   "cell_type": "markdown",
   "metadata": {},
   "source": [
    "Create train and validation splits"
   ]
  },
  {
   "cell_type": "code",
   "execution_count": null,
   "metadata": {},
   "outputs": [],
   "source": [
    "import torch\n",
    "\n",
    "# split samples into train and valid sets\n",
    "train_indices, valid_indices = torch.split(torch.randperm(len(ff.indices)), int(len(ff.indices)*.9))\n",
    "# define training set\n",
    "train_dset = TorchTrainingDataset(\n",
    "    dataset=ListDatasetIndexed(train_indices, ff.features[train_indices]),\n",
    "    targets=label_set.get_label_ids([train_labels[idx] for idx in train_indices])\n",
    ")\n",
    "# define valid set\n",
    "valid_dset = TorchTrainingDataset(\n",
    "    dataset=ListDatasetIndexed(valid_indices, ff.features[valid_indices]),\n",
    "    targets=label_set.get_label_ids([train_labels[idx] for idx in valid_indices])\n",
    ")"
   ]
  },
  {
   "cell_type": "markdown",
   "metadata": {},
   "source": [
    "Train the image classifier using `TorchTrainingRunner` module"
   ]
  },
  {
   "cell_type": "code",
   "execution_count": null,
   "metadata": {},
   "outputs": [],
   "source": [
    "from ignite.metrics import Precision, Recall, Loss, Accuracy\n",
    "from mlmodule.callbacks.states import SaveModelState\n",
    "from mlmodule.stores.local import LocalStateStore\n",
    "\n",
    "import torch.nn.functional as F\n",
    "import torch.optim as optim\n",
    "\n",
    "# define the evaluation metrics\n",
    "precision = Precision(average=False)\n",
    "recall = Recall(average=False)\n",
    "F1 = (precision * recall * 2 / (precision + recall)).mean()\n",
    "\n",
    "# Callbacks\n",
    "model_state = SaveModelState(\n",
    "    store=LocalStateStore('/home/lebret/data/mlmodule'),\n",
    "    state_key=StateKey(classifier.state_type, 'train-1'))\n",
    "# define a loss function\n",
    "loss_fn =  F.cross_entropy\n",
    "\n",
    "# define the trainer\n",
    "trainer = TorchTrainingRunner(\n",
    "    model=classifier,\n",
    "    dataset=(train_dset, valid_dset),\n",
    "    callbacks=[model_state],\n",
    "    options=TorchTrainingOptions(\n",
    "        data_loader_options={'batch_size': 32},\n",
    "        criterion=loss_fn,\n",
    "        optimizer=optim.Adam(classifier.parameters(), lr=1e-3),\n",
    "        metrics={\n",
    "            \"pre\": precision,\n",
    "            \"recall\": recall,\n",
    "            \"f1\": F1,\n",
    "            \"acc\": Accuracy(),\n",
    "            \"ce_loss\": Loss(loss_fn),\n",
    "        },\n",
    "        validate_every=1,\n",
    "        checkpoint_every=3,\n",
    "        num_epoch=5,\n",
    "        tqdm_enabled=True,\n",
    "    ),\n",
    ")\n",
    "trainer.run()"
   ]
  },
  {
   "cell_type": "markdown",
   "metadata": {},
   "source": [
    "Do evaluation on the test set"
   ]
  },
  {
   "cell_type": "code",
   "execution_count": null,
   "metadata": {},
   "outputs": [],
   "source": [
    "from mlmodule.callbacks.memory import CollectLabelsInMemory\n",
    "\n",
    "test_cifar10 = CIFAR10(root=root_dir, train=False, download=True,  transform=None)\n",
    "test_samples = [(img, labels_dict[label]) for img, label in test_cifar10]\n",
    "test_images, test_labels = zip(*test_samples)\n",
    "\n",
    "# Callbacks\n",
    "ff_test = CollectFeaturesInMemory()\n",
    "score_test = CollectLabelsInMemory()\n",
    "\n",
    "# Extract the image features\n",
    "features_test_runner = TorchInferenceRunner(\n",
    "    model=resnet,\n",
    "    dataset=ListDataset(test_images),\n",
    "    callbacks=[ff_test],\n",
    "    options=TorchRunnerOptions(\n",
    "        data_loader_options={'batch_size': 32},\n",
    "        device=torch_device,\n",
    "        tqdm_enabled=True\n",
    "    ),\n",
    ")\n",
    "features_test_runner.run()\n",
    "\n",
    "# Do the predictions\n",
    "scores_test_runner = TorchInferenceRunner(\n",
    "    model=classifier,\n",
    "    dataset=ListDataset(ff_test.features),\n",
    "    callbacks=[score_test],\n",
    "    options=TorchRunnerOptions(\n",
    "        data_loader_options={'batch_size': 32},\n",
    "        device=torch_device,\n",
    "        tqdm_enabled=True\n",
    "    ),\n",
    ")\n",
    "scores_test_runner.run()"
   ]
  },
  {
   "cell_type": "markdown",
   "metadata": {},
   "source": [
    "Print classification report"
   ]
  },
  {
   "cell_type": "code",
   "execution_count": null,
   "metadata": {},
   "outputs": [],
   "source": [
    "from sklearn.metrics import classification_report\n",
    "print(classification_report(test_labels, score_test.labels))\n"
   ]
  }
 ],
 "metadata": {
  "interpreter": {
   "hash": "ce546f547b4951e5134bea5436654c55db2fc56665558813e55e8a048d40e22c"
  },
  "jupytext": {
   "formats": "ipynb,md"
  },
  "kernelspec": {
   "display_name": "Python 3.7.10 ('mlmodule')",
   "language": "python",
   "name": "python3"
  },
  "language_info": {
   "codemirror_mode": {
    "name": "ipython",
    "version": 3
   },
   "file_extension": ".py",
   "mimetype": "text/x-python",
   "name": "python",
   "nbconvert_exporter": "python",
   "pygments_lexer": "ipython3",
   "version": "3.7.10"
  }
 },
 "nbformat": 4,
 "nbformat_minor": 2
}
