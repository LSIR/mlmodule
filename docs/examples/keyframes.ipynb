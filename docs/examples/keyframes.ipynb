{
 "cells": [
  {
   "cell_type": "markdown",
   "metadata": {},
   "source": [
    "# Video Key-frames Extraction Model"
   ]
  },
  {
   "cell_type": "markdown",
   "metadata": {},
   "source": [
    "\n",
    "<a target=\"_blank\" href=\"https://github.com/mozuma/mozuma/blob/master/docs/examples/keyframes.ipynb\">\n",
    "  <img src=\"https://img.shields.io/static/v1?label=&message=See%20the%20source%20code&color=blue&logo=github&labelColor=black\" alt=\"See the source code\"/>\n",
    "</a>\n",
    "<a target=\"_blank\" href=\"https://colab.research.google.com/github/mozuma/mozuma/blob/master/docs/examples/keyframes.ipynb\">\n",
    "  <img src=\"https://colab.research.google.com/assets/colab-badge.svg\" alt=\"Open In Colab\"/>\n",
    "</a>\n",
    "\n",
    "Import `mozuma` modules"
   ]
  },
  {
   "cell_type": "code",
   "execution_count": null,
   "metadata": {},
   "outputs": [],
   "source": [
    "from mozuma.torch.datasets import (\n",
    "    LocalBinaryFilesDataset,\n",
    ")\n",
    "from mozuma.models.keyframes.pretrained import torch_keyframes_resnet_imagenet\n",
    "from mozuma.models.keyframes.datasets import (\n",
    "    BinaryVideoCapture,\n",
    "    extract_video_frames,\n",
    ")\n",
    "from mozuma.callbacks.memory import CollectVideoFramesInMemory\n",
    "from mozuma.torch.options import TorchRunnerOptions\n",
    "from mozuma.torch.runners import TorchInferenceRunner\n",
    "\n",
    "import torch\n",
    "import os"
   ]
  },
  {
   "cell_type": "markdown",
   "metadata": {},
   "source": [
    "Load a test video"
   ]
  },
  {
   "cell_type": "code",
   "execution_count": null,
   "metadata": {
    "lines_to_next_cell": 2
   },
   "outputs": [],
   "source": [
    "dataset = LocalBinaryFilesDataset(\n",
    "    [os.path.join(\"../../tests\", \"fixtures\", \"video\", \"test.mp4\")]\n",
    ")"
   ]
  },
  {
   "cell_type": "markdown",
   "metadata": {},
   "source": [
    "Extract key-frames with `torch_keyframes_resnet_imagenet`"
   ]
  },
  {
   "cell_type": "code",
   "execution_count": null,
   "metadata": {},
   "outputs": [],
   "source": [
    "torch_device = torch.device(\"cpu\")\n",
    "# define model for keyframes extractor\n",
    "model = torch_keyframes_resnet_imagenet(\"resnet18\", device=torch_device)\n",
    "\n",
    "features = CollectVideoFramesInMemory()\n",
    "runner = TorchInferenceRunner(\n",
    "    model=model,\n",
    "    dataset=dataset,\n",
    "    callbacks=[features],\n",
    "    options=TorchRunnerOptions(\n",
    "        device=torch_device, data_loader_options={\"batch_size\": 1}, tqdm_enabled=True\n",
    "    ),\n",
    ")\n",
    "runner.run()"
   ]
  },
  {
   "cell_type": "markdown",
   "metadata": {},
   "source": [
    "Visualise the extracted key-frames"
   ]
  },
  {
   "cell_type": "markdown",
   "metadata": {},
   "source": [
    "First install `ipyplot`"
   ]
  },
  {
   "cell_type": "code",
   "execution_count": null,
   "metadata": {},
   "outputs": [],
   "source": [
    "# Install a pip package in the current Jupyter kernel\n",
    "import sys\n",
    "\n",
    "!{sys.executable} -m pip install ipyplot"
   ]
  },
  {
   "cell_type": "markdown",
   "metadata": {},
   "source": [
    "Then extract the selected key-frames from the video"
   ]
  },
  {
   "cell_type": "code",
   "execution_count": null,
   "metadata": {},
   "outputs": [],
   "source": [
    "with open(\n",
    "    os.path.join(\"../../tests\", \"fixtures\", \"video\", \"test.mp4\"), mode=\"rb\"\n",
    ") as video_file:\n",
    "    with BinaryVideoCapture(video_file) as capture:\n",
    "        video_frames = dict(extract_video_frames(capture))\n",
    "frame_positions = sorted(kf for kf in features.frames[0].frame_indices)\n",
    "selected_frames = [video_frames[i] for i in frame_positions]"
   ]
  },
  {
   "cell_type": "markdown",
   "metadata": {},
   "source": [
    "Finally, display the frames"
   ]
  },
  {
   "cell_type": "code",
   "execution_count": null,
   "metadata": {
    "lines_to_next_cell": 2
   },
   "outputs": [],
   "source": [
    "import ipyplot\n",
    "\n",
    "ipyplot.plot_images(selected_frames, frame_positions, img_width=250)"
   ]
  },
  {
   "cell_type": "code",
   "execution_count": null,
   "metadata": {},
   "outputs": [],
   "source": []
  }
 ],
 "metadata": {
  "interpreter": {
   "hash": "ce546f547b4951e5134bea5436654c55db2fc56665558813e55e8a048d40e22c"
  },
  "jupytext": {
   "formats": "ipynb,md",
   "main_language": "python"
  },
  "kernelspec": {
   "display_name": "Python 3.7.10 64-bit ('mozuma': conda)",
   "name": "python3"
  },
  "language_info": {
   "codemirror_mode": {
    "name": "ipython",
    "version": 3
   },
   "file_extension": ".py",
   "mimetype": "text/x-python",
   "name": "python",
   "nbconvert_exporter": "python",
   "pygments_lexer": "ipython3",
   "version": "3.8.13"
  }
 },
 "nbformat": 4,
 "nbformat_minor": 2
}
