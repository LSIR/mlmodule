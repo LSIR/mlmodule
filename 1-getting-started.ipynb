{
 "cells": [
  {
   "cell_type": "markdown",
   "id": "95be1f0c",
   "metadata": {},
   "source": [
    "\n",
    "# Getting started\n",
    "\n",
    "## Code-based usage\n",
    "\n",
    "This guide runs through the inference of a PyTorch ResNet model pre-trained on imagenet.\n",
    "\n",
    "First, we need to create a dataset of images, for this we will be using an `ImageDataset`."
   ]
  },
  {
   "cell_type": "code",
   "execution_count": null,
   "id": "de08e91b",
   "metadata": {},
   "outputs": [],
   "source": [
    "from mlmodule.torch.datasets import LocalBinaryFilesDataset, ImageDataset\n",
    "\n",
    "# Getting a dataset of images (1)\n",
    "dataset = ImageDataset(\n",
    "    LocalBinaryFilesDataset(\n",
    "        paths=[\n",
    "            \"../tests/fixtures/cats_dogs/cat_0.jpg\",\n",
    "            \"../tests/fixtures/cats_dogs/cat_90.jpg\",\n",
    "        ]\n",
    "    )\n",
    ")\n"
   ]
  },
  {
   "cell_type": "markdown",
   "id": "17728300",
   "metadata": {},
   "source": [
    "1.  See [Datasets](references/datasets.md) for a list of available datasets.\n",
    "\n",
    "Next, we need to load the ResNet PyTorch module specifying the `resnet18` architecture.\n",
    "The model is initialised with weights pre-trained on ImageNet[@deng2009imagenet]."
   ]
  },
  {
   "cell_type": "code",
   "execution_count": null,
   "id": "c628411b",
   "metadata": {},
   "outputs": [],
   "source": [
    "from mlmodule.models.resnet import torch_resnet_imagenet\n",
    "\n",
    "# Model definition (1)\n",
    "resnet = torch_resnet_imagenet(\"resnet18\")\n"
   ]
  },
  {
   "cell_type": "markdown",
   "id": "37c9ccc1",
   "metadata": {},
   "source": [
    "1. List of all [models](models/index.md)\n",
    "\n",
    "Once we have the model initialized, we need to define what we want to do with it.\n",
    "In this case, we'll run an inference loop using the `TorchInferenceRunner`.\n",
    "\n",
    "Note that we pass two callbacks to the runner: `CollectFeaturesInMemory` and `CollectLabelsInMemory`.\n",
    "They will be called to save the features and labels in-memory."
   ]
  },
  {
   "cell_type": "code",
   "execution_count": null,
   "id": "c2e08946",
   "metadata": {},
   "outputs": [],
   "source": [
    "from mlmodule.callbacks import (\n",
    "    CollectFeaturesInMemory, CollectLabelsInMemory\n",
    ")\n",
    "from mlmodule.torch.options import TorchRunnerOptions\n",
    "from mlmodule.torch.runners import TorchInferenceRunner\n",
    "\n",
    "# Creating the callback to collect data (1)\n",
    "features = CollectFeaturesInMemory()\n",
    "labels = CollectLabelsInMemory()\n",
    "\n",
    "# Getting the torch runner for inference (2)\n",
    "runner = TorchInferenceRunner(\n",
    "    model=resnet,\n",
    "    dataset=dataset,\n",
    "    callbacks=[features, labels],\n",
    "    options=TorchRunnerOptions(tqdm_enabled=True),\n",
    ")"
   ]
  },
  {
   "cell_type": "markdown",
   "id": "87fa7575",
   "metadata": {},
   "source": [
    "1. List of available [callbacks](references/callbacks.md).\n",
    "2. List of available [runners](references/runners.md)\n",
    "\n",
    "Now that the runner is initialised, we run it with the method `run`.\n",
    "\n",
    "The callbacks have accumulated the features and labels in memory and we print their content."
   ]
  },
  {
   "cell_type": "code",
   "execution_count": null,
   "id": "dac11697",
   "metadata": {},
   "outputs": [],
   "source": [
    "# Executing inference\n",
    "runner.run()\n",
    "\n",
    "# Printing the features\n",
    "print(features.indices, features.features)\n",
    "\n",
    "# Printing labels\n",
    "print(labels.indices, labels.labels)"
   ]
  },
  {
   "cell_type": "markdown",
   "id": "ea6ba7d5",
   "metadata": {},
   "source": [
    "## Command-line interface\n",
    "\n",
    "MLModule exposes a command-line interface. See `python -m mlmodule -h` for a list of available commands.\n",
    "\n",
    "For instance, one can run a ResNet model against a list of local images with the following command:\n",
    "\n",
    "```shell\n",
    "python -m mlmodule run \".resnet.modules.TorchResNetModule(resnet18)\" *.jpg\n",
    "```\n",
    "\n",
    "It prints the results (features and labels) in JSON format.\n",
    "\n",
    "Similarly, we can extract the key-frames from videos:\n",
    "\n",
    "```shell\n",
    "python -m mlmodule run \".keyframes.selectors.resnet_key_frame_selector(resnet18, 10)\" *.mp4 --file-type vi --batch-size 1\n",
    "```"
   ]
  }
 ],
 "metadata": {
  "interpreter": {
   "hash": "ce546f547b4951e5134bea5436654c55db2fc56665558813e55e8a048d40e22c"
  },
  "jupytext": {
   "cell_metadata_filter": "-all",
   "formats": "ipynb,md"
  },
  "kernelspec": {
   "display_name": "Python 3.7.10 ('mlmodule')",
   "language": "python",
   "name": "python3"
  },
  "language_info": {
   "codemirror_mode": {
    "name": "ipython",
    "version": 3
   },
   "file_extension": ".py",
   "mimetype": "text/x-python",
   "name": "python",
   "nbconvert_exporter": "python",
   "pygments_lexer": "ipython3",
   "version": "3.7.10"
  }
 },
 "nbformat": 4,
 "nbformat_minor": 5
}
