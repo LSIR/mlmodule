{
 "metadata": {
  "language_info": {
   "codemirror_mode": {
    "name": "ipython",
    "version": 3
   },
   "file_extension": ".py",
   "mimetype": "text/x-python",
   "name": "python",
   "nbconvert_exporter": "python",
   "pygments_lexer": "ipython3",
   "version": "3.7.9-final"
  },
  "orig_nbformat": 2,
  "kernelspec": {
   "name": "python3",
   "display_name": "Python 3.7.9 64-bit ('mlmodule': conda)",
   "metadata": {
    "interpreter": {
     "hash": "43e0d05fe07f0241ce99b0b080dde2b14aeabfd1e9c24bc848b32a6afc01d5b7"
    }
   }
  }
 },
 "nbformat": 4,
 "nbformat_minor": 2,
 "cells": [
  {
   "cell_type": "code",
   "execution_count": null,
   "metadata": {},
   "outputs": [],
   "source": [
    "import torch\n",
    "\n",
    "from mlmodule.contrib.mtcnn import MTCNNDetector\n",
    "from mlmodule.contrib.arcface import ArcFaceFeatures\n",
    "from mlmodule.torch.data.images import ImageDataset\n",
    "from mlmodule.utils import list_files_in_dir\n"
   ]
  },
  {
   "cell_type": "code",
   "execution_count": null,
   "metadata": {},
   "outputs": [],
   "source": [
    "# load models\n",
    "device = torch.device('cuda:1')\n",
    "arcface = ArcFaceFeatures(device=device).load()\n",
    "mtcnn = MTCNNDetector(device=device, image_size=720, min_face_size=20).load()"
   ]
  },
  {
   "cell_type": "code",
   "execution_count": null,
   "metadata": {},
   "outputs": [],
   "source": [
    "# run face detection first\n",
    "base_path = \"../tests/fixtures/berset\"\n",
    "file_names = list_files_in_dir(base_path, allowed_extensions=('jpg',))\n",
    "dataset = ImageDataset(file_names)\n",
    "# Detect faces first\n",
    "file_names, outputs = mtcnn.bulk_inference(dataset)"
   ]
  },
  {
   "cell_type": "code",
   "execution_count": null,
   "metadata": {},
   "outputs": [],
   "source": [
    "from mlmodule.contrib.arcface import ArcFaceAlignment\n",
    "from mlmodule.torch.data.faces import FaceDataset\n",
    "\n",
    "# load dataset with face descriptor\n",
    "face_dataset = FaceDataset(file_names, outputs, crop_fn=ArcFaceAlignment())"
   ]
  },
  {
   "cell_type": "code",
   "execution_count": null,
   "metadata": {},
   "outputs": [],
   "source": [
    "from PIL import Image\n",
    "from matplotlib import pyplot as plt\n",
    "# display cropped faces\n",
    "for face in face_dataset:\n",
    "    plt.figure()\n",
    "    plt.imshow(Image.fromarray(face[1]))\n",
    "    plt.show()"
   ]
  },
  {
   "cell_type": "code",
   "execution_count": null,
   "metadata": {},
   "outputs": [],
   "source": [
    "# get data loader\n",
    "loader = arcface.get_data_loader(face_dataset, batch_size=3)\n",
    "# get batch\n",
    "indices, batch = next(iter(loader))"
   ]
  },
  {
   "cell_type": "code",
   "execution_count": null,
   "metadata": {},
   "outputs": [],
   "source": [
    "# get features\n",
    "arcface.eval()\n",
    "with torch.no_grad():\n",
    "    outputs = arcface(batch.to(device))"
   ]
  },
  {
   "cell_type": "code",
   "execution_count": null,
   "metadata": {},
   "outputs": [],
   "source": []
  }
 ]
}