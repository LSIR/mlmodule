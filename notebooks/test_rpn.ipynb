{
 "cells": [
  {
   "cell_type": "markdown",
   "source": [
    "# Region Encoding Extraction\n",
    "\n",
    "The RPN module of mlmodule allows users to extract regions from images using RPNs, and to create encodings for these regions using a DenseNet pretrained on ImageNet."
   ],
   "metadata": {}
  },
  {
   "cell_type": "markdown",
   "source": [
    "## Setup"
   ],
   "metadata": {}
  },
  {
   "cell_type": "code",
   "execution_count": null,
   "source": [
    "import warnings\n",
    "warnings.filterwarnings(\"ignore\")"
   ],
   "outputs": [],
   "metadata": {}
  },
  {
   "cell_type": "code",
   "execution_count": null,
   "source": [
    "%cd .."
   ],
   "outputs": [],
   "metadata": {}
  },
  {
   "cell_type": "markdown",
   "source": [
    "### Imports"
   ],
   "metadata": {}
  },
  {
   "cell_type": "code",
   "execution_count": null,
   "source": [
    "import pickle\n",
    "import os\n",
    "import time\n",
    "\n",
    "import cv2 as cv2\n",
    "import matplotlib.pyplot as plt\n",
    "import numpy as np\n",
    "import torch\n",
    "from torchvision.transforms import Compose\n",
    "\n",
    "from mmdet.apis import init_detector, inference_detector\n",
    "\n",
    "from mlmodule.contrib.rpn import RegionFeatures\n",
    "from mlmodule.torch.data.base import IndexedDataset\n",
    "from mlmodule.torch.data.images import convert_to_rgb, get_pil_image_from_file\n",
    "from mlmodule.utils import list_files_in_dir"
   ],
   "outputs": [],
   "metadata": {}
  },
  {
   "cell_type": "markdown",
   "source": [
    "### Loading Images"
   ],
   "metadata": {}
  },
  {
   "cell_type": "code",
   "execution_count": null,
   "source": [
    "num_images = 100\n",
    "\n",
    "file_names = list_files_in_dir('/mnt/storage02/mlmodule/datasets/sempi_surgeons_100')\n",
    "file_names = file_names[:num_images]"
   ],
   "outputs": [],
   "metadata": {}
  },
  {
   "cell_type": "code",
   "execution_count": null,
   "source": [
    "def get_images():\n",
    "    transforms = Compose([\n",
    "        get_pil_image_from_file,\n",
    "        convert_to_rgb\n",
    "    ])\n",
    "    return file_names, [transforms(f) for f in file_names]"
   ],
   "outputs": [],
   "metadata": {}
  },
  {
   "cell_type": "code",
   "execution_count": null,
   "source": [
    "indices, images = get_images()"
   ],
   "outputs": [],
   "metadata": {}
  },
  {
   "cell_type": "markdown",
   "source": [
    "### Region Extraction Parameters"
   ],
   "metadata": {}
  },
  {
   "cell_type": "code",
   "execution_count": null,
   "source": [
    "MIN_SCORE = 0.5\n",
    "NUM_REGIONS = 30"
   ],
   "outputs": [],
   "metadata": {}
  },
  {
   "cell_type": "markdown",
   "source": [
    "### Helpers"
   ],
   "metadata": {}
  },
  {
   "cell_type": "code",
   "execution_count": null,
   "source": [
    "def add_boxes(image, boxes, c=(255, 0, 0)):\n",
    "    img = image.copy()\n",
    "    for bbox in boxes:\n",
    "        x0, y0 = int(bbox[0]), int(bbox[1])\n",
    "        x1, y1 = int(bbox[2]), int(bbox[3])\n",
    "        cv2.rectangle(img, (x0, y0), (x1, y1), c, 2)\n",
    "    return img\n",
    "\n",
    "\n",
    "def plot_image_data(img_index):\n",
    "    img_path = indices[img_index]\n",
    "    regions = regions_with_features[img_index]\n",
    "    img = np.array(convert_to_rgb(get_pil_image_from_file(img_path)))\n",
    "    \n",
    "    # mlmodule boxes\n",
    "    boxes_taken = []\n",
    "    boxes_not_taken = []\n",
    "    for r in regions:\n",
    "        b0, b1 = r.bounding_box\n",
    "        if r.features is not None:\n",
    "            boxes_taken.append([b0.x, b0.y, b1.x, b1.y])\n",
    "        else:\n",
    "            boxes_not_taken.append([b0.x, b0.y, b1.x, b1.y])\n",
    "    \n",
    "    fig, (ax1, ax2) = plt.subplots(1, 2, figsize=(22, 10))\n",
    "    ax1.set_title(f'mlmodule: Regions Kept ({len(boxes_taken)})')\n",
    "    ax1.imshow(add_boxes(img, boxes_taken, c=(255, 0, 0)))\n",
    "    ax2.set_title(f'mlmodule: Regions Discarded ({len(boxes_not_taken)})')\n",
    "    ax2.imshow(add_boxes(img, boxes_not_taken, c=(255, 0, 0)))\n",
    "    plt.tight_layout()\n",
    "    plt.show()"
   ],
   "outputs": [],
   "metadata": {}
  },
  {
   "cell_type": "markdown",
   "source": [
    "## Using mlmodule"
   ],
   "metadata": {}
  },
  {
   "cell_type": "markdown",
   "source": [
    "### Creating the Dataset"
   ],
   "metadata": {}
  },
  {
   "cell_type": "code",
   "execution_count": null,
   "source": [
    "dataset = IndexedDataset[str, np.ndarray, np.ndarray](indices, images)"
   ],
   "outputs": [],
   "metadata": {}
  },
  {
   "cell_type": "markdown",
   "source": [
    "### Loading the Models\n",
    "\n",
    "To load a model other than the default:\n",
    "\n",
    "```python\n",
    "def rpn_from_config_and_checkpoint():\n",
    "    base_path = 'src/mlmodule/contrib/rpn'\n",
    "    model = 'ga_rpn_x101_32x4d_fpn_1x_coco\n",
    "    # Path to the config\n",
    "    config = f'{base_path}/configs/guided_anchoring/{model}.py'\n",
    "    # Path the the checkpoint\n",
    "    checkpoint = f'{base_path}/checkpoints/{model}_20200220-c28d1b18.pth'\n",
    "\n",
    "    # Initialize RPN\n",
    "    model = RPN(config, device='cuda:0')\n",
    "    # Load checkpoint\n",
    "    with open(checkpoint, 'rb') as f:\n",
    "        model.load(f)\n",
    "    return model\n",
    "```"
   ],
   "metadata": {}
  },
  {
   "cell_type": "code",
   "execution_count": null,
   "source": [
    "def rpn():\n",
    "    # Initialize RPN\n",
    "    model = RPN(device='cuda:0')\n",
    "    # Load checkpoint\n",
    "    model.load()\n",
    "    return model\n",
    "\n",
    "\n",
    "def region_encoder():\n",
    "    densenet = DenseNet161ImageNetEncoder(device='cuda:0')\n",
    "    densenet.load()\n",
    "    return densenet\n",
    "\n",
    "\n",
    "def region_selector():\n",
    "    return CosineSimilarityRegionSelector(device='cuda:0')"
   ],
   "outputs": [],
   "metadata": {}
  },
  {
   "cell_type": "code",
   "execution_count": null,
   "source": [
    "# rpn = rpn()\n",
    "# region_encoder = region_encoder()\n",
    "# region_selector = region_selector()"
   ],
   "outputs": [],
   "metadata": {
    "scrolled": false
   }
  },
  {
   "cell_type": "code",
   "execution_count": null,
   "source": [
    "region_features = RegionFeatures()\n",
    "state_dict = region_features.get_default_pretrained_state_dict_from_provider()\n",
    "region_features.load_state_dict(state_dict)"
   ],
   "outputs": [],
   "metadata": {}
  },
  {
   "cell_type": "markdown",
   "source": [
    "### Computing Image Regions and Their Encodings"
   ],
   "metadata": {}
  },
  {
   "cell_type": "code",
   "execution_count": null,
   "source": [
    "t0 = time.time()\n",
    "indices, regions_with_features = region_features.bulk_inference(\n",
    "    dataset,\n",
    "    regions_per_image=NUM_REGIONS,\n",
    "    min_region_score=MIN_SCORE\n",
    ")\n",
    "t1 = time.time()\n",
    "\n",
    "print(f'Images in dataset: {len(dataset)}')\n",
    "print(f'Runtime:           {t1 - t0:.1f} seconds')\n",
    "print(f'Per image:         {len(dataset)/(t1 - t0):.1f} images/second')"
   ],
   "outputs": [],
   "metadata": {}
  },
  {
   "cell_type": "markdown",
   "source": [
    "## Analysing Results"
   ],
   "metadata": {}
  },
  {
   "cell_type": "code",
   "execution_count": null,
   "source": [
    "plot_image_data(50)"
   ],
   "outputs": [],
   "metadata": {}
  },
  {
   "cell_type": "code",
   "execution_count": null,
   "source": [
    "plot_image_data(30)"
   ],
   "outputs": [],
   "metadata": {}
  },
  {
   "cell_type": "code",
   "execution_count": null,
   "source": [
    "plot_image_data(20)"
   ],
   "outputs": [],
   "metadata": {}
  },
  {
   "cell_type": "code",
   "execution_count": null,
   "source": [
    "plot_image_data(13)"
   ],
   "outputs": [],
   "metadata": {}
  },
  {
   "cell_type": "code",
   "execution_count": null,
   "source": [],
   "outputs": [],
   "metadata": {}
  }
 ],
 "metadata": {
  "kernelspec": {
   "name": "python3",
   "display_name": "Python 3.7.11 64-bit (conda)"
  },
  "language_info": {
   "codemirror_mode": {
    "name": "ipython",
    "version": 3
   },
   "file_extension": ".py",
   "mimetype": "text/x-python",
   "name": "python",
   "nbconvert_exporter": "python",
   "pygments_lexer": "ipython3",
   "version": "3.7.11"
  },
  "interpreter": {
   "hash": "65cb18dfa56f2777712b846ded0384ccbe20bf20e21a139b6e25e7b46e90f6b9"
  }
 },
 "nbformat": 4,
 "nbformat_minor": 5
}