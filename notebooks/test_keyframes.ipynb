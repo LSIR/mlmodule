{
 "cells": [
  {
   "cell_type": "code",
   "execution_count": null,
   "metadata": {},
   "outputs": [],
   "source": [
    "import os\n",
    "\n",
    "import ipyplot\n",
    "\n",
    "from mlmodule.v2.torch.datasets import OpenBinaryFileDataset\n",
    "from mlmodule.contrib.keyframes.v1 import TorchMLModuleKeyFrames\n",
    "from mlmodule.contrib.keyframes.datasets import BinaryVideoCapture, extract_video_frames"
   ]
  },
  {
   "cell_type": "code",
   "execution_count": null,
   "metadata": {},
   "outputs": [],
   "source": [
    "dataset = OpenBinaryFileDataset([os.path.join(\"../tests\", \"fixtures\", \"video\", \"test.mp4\")])\n",
    "\n",
    "model = TorchMLModuleKeyFrames().load()\n",
    "\n",
    "indices, video_keyframes = model.bulk_inference(dataset)\n",
    "assert len(indices) == 1\n",
    "assert len(video_keyframes) == 1\n",
    "assert len(video_keyframes[0]) > 0 and len(video_keyframes[0]) < 20"
   ]
  },
  {
   "cell_type": "code",
   "execution_count": null,
   "metadata": {},
   "outputs": [],
   "source": [
    "with open(os.path.join(\"../tests\", \"fixtures\", \"video\", \"test.mp4\"), mode='rb') as video_file:\n",
    "    with BinaryVideoCapture(video_file) as capture:\n",
    "        video_frames = dict(extract_video_frames(capture))\n",
    "frame_positions = sorted(kf.frame_pos for kf in video_keyframes[0])\n",
    "selected_frames = [video_frames[i] for i in frame_positions]"
   ]
  },
  {
   "cell_type": "code",
   "execution_count": null,
   "metadata": {},
   "outputs": [],
   "source": [
    "ipyplot.plot_images(selected_frames, frame_positions, img_width=250)"
   ]
  },
  {
   "cell_type": "code",
   "execution_count": null,
   "metadata": {},
   "outputs": [],
   "source": []
  }
 ],
 "metadata": {
  "interpreter": {
   "hash": "ce546f547b4951e5134bea5436654c55db2fc56665558813e55e8a048d40e22c"
  },
  "kernelspec": {
   "display_name": "Python 3.7.10 64-bit ('mlmodule': conda)",
   "name": "python3"
  },
  "language_info": {
   "codemirror_mode": {
    "name": "ipython",
    "version": 3
   },
   "file_extension": ".py",
   "mimetype": "text/x-python",
   "name": "python",
   "nbconvert_exporter": "python",
   "pygments_lexer": "ipython3",
   "version": "3.7.10"
  },
  "orig_nbformat": 4
 },
 "nbformat": 4,
 "nbformat_minor": 2
}
