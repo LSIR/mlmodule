{
 "cells": [
  {
   "cell_type": "code",
   "execution_count": null,
   "metadata": {},
   "outputs": [],
   "source": [
    "from mlmodule.utils import list_files_in_dir\n",
    "from mlmodule.torch.data.images import ImageDataset\n",
    "from mlmodule.contrib.vinvl import VinVLDetector\n",
    "from mlmodule.box import BBoxOutput\n",
    "import matplotlib.pyplot as plt\n",
    "from matplotlib.patches import Rectangle\n",
    "import torch\n",
    "from PIL import Image\n",
    "import os\n",
    "%matplotlib inline"
   ]
  },
  {
   "cell_type": "code",
   "execution_count": null,
   "metadata": {},
   "outputs": [],
   "source": [
    "# Load VinVL model\n",
    "torch_device = torch.device('cuda')\n",
    "vinvl = VinVLDetector(device=torch_device, score_threshold=0.5)\n",
    "# Pretrained model\n",
    "vinvl.load()"
   ]
  },
  {
   "cell_type": "code",
   "execution_count": null,
   "metadata": {},
   "outputs": [],
   "source": [
    "# Getting data\n",
    "base_path = os.path.join(\"../tests\", \"fixtures\", \"objects\")\n",
    "file_names = list_files_in_dir(base_path, allowed_extensions=('jpg',))[:50]\n",
    "dataset = ImageDataset(file_names)"
   ]
  },
  {
   "cell_type": "code",
   "execution_count": null,
   "metadata": {},
   "outputs": [],
   "source": [
    "# Get the detections\n",
    "indices, detections = vinvl.bulk_inference(dataset, data_loader_options={'batch_size': 10})"
   ]
  },
  {
   "cell_type": "code",
   "execution_count": null,
   "metadata": {},
   "outputs": [],
   "source": [
    "# Get labels and attributes\n",
    "labels = vinvl.get_labels()\n",
    "attribute_labels = vinvl.get_attribute_labels()"
   ]
  },
  {
   "cell_type": "code",
   "execution_count": null,
   "metadata": {},
   "outputs": [],
   "source": [
    "from mlmodule.contrib.vinvl.utils import postprocess_attr\n",
    "\n",
    "for i, img_path in enumerate(indices):\n",
    "    print(f'Object with attributes detected for {img_path}')\n",
    "    img = Image.open(img_path).convert('RGB')\n",
    "    plt.figure()\n",
    "    plt.imshow(img)\n",
    "    for k, det in enumerate(detections[i]):\n",
    "        label = labels[det.labels[0]]\n",
    "        attr_labels = det.attributes[det.attr_scores > 0.5]\n",
    "        attr_scores = det.attr_scores[det.attr_scores > 0.5]\n",
    "        attributes = postprocess_attr(attribute_labels, attr_labels, attr_scores)\n",
    "        print(f'{k+1}: {\",\".join(list(attributes[0]))} {label} ({det.probability:.2f})')\n",
    "        bbox0 = det.bounding_box[0].x\n",
    "        bbox1 = det.bounding_box[0].y\n",
    "        bbox2 = det.bounding_box[1].x\n",
    "        bbox3 = det.bounding_box[1].y\n",
    "        plt.gca().add_patch(Rectangle((bbox0, bbox1),\n",
    "                                        bbox2 - bbox0,\n",
    "                                        bbox3 - bbox1, fill=False,\n",
    "                                      edgecolor='red', linewidth=2, alpha=0.5))\n",
    "        plt.text(\n",
    "            bbox0, bbox1, f'{label}', color='white', fontsize=12)\n"
   ]
  }
 ],
 "metadata": {
  "interpreter": {
   "hash": "1a9eeca477439d6a2922d69b8d743e1024f2fe4120e7a870f9cdb2970f0e81af"
  },
  "kernelspec": {
   "display_name": "Python 3.7.11 64-bit (conda)",
   "name": "python3"
  },
  "language_info": {
   "codemirror_mode": {
    "name": "ipython",
    "version": 3
   },
   "file_extension": ".py",
   "mimetype": "text/x-python",
   "name": "python",
   "nbconvert_exporter": "python",
   "pygments_lexer": "ipython3",
   "version": "3.7.11"
  },
  "orig_nbformat": 4
 },
 "nbformat": 4,
 "nbformat_minor": 2
}
