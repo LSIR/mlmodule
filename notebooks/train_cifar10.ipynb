{
 "cells": [
  {
   "cell_type": "markdown",
   "metadata": {},
   "source": [
    "# Train CIFAR10 Image Classification on top of ResNet18 features from ImageNet"
   ]
  },
  {
   "cell_type": "markdown",
   "metadata": {},
   "source": [
    "1. Import `mlmodule` modules for the task"
   ]
  },
  {
   "cell_type": "code",
   "execution_count": null,
   "metadata": {},
   "outputs": [],
   "source": [
    "from mlmodule.models.resnet.modules import TorchResNetModule\n",
    "from mlmodule.models.classification import LinearClassifierTorchModule\n",
    "from mlmodule.torch.datasets import TorchTrainingDataset\n",
    "from mlmodule.torch.runners import TorchTrainingRunner\n",
    "from mlmodule.torch.runners import TorchInferenceRunner\n",
    "from mlmodule.torch.options import TorchTrainingOptions\n",
    "from mlmodule.torch.options import TorchRunnerOptions\n",
    "from mlmodule.labels.base import LabelSet\n",
    "from mlmodule.callbacks.memory import (\n",
    "    CollectFeaturesInMemory,\n",
    ")\n",
    "from mlmodule.torch.datasets import (\n",
    "    ListDataset,\n",
    "    ListDatasetIndexed,\n",
    ")\n",
    "from mlmodule.states import StateKey\n",
    "from mlmodule.stores import Store"
   ]
  },
  {
   "cell_type": "markdown",
   "metadata": {},
   "source": [
    "Enable logging into notebook"
   ]
  },
  {
   "cell_type": "code",
   "execution_count": null,
   "metadata": {},
   "outputs": [],
   "source": [
    "import logging\n",
    "import sys\n",
    "\n",
    "logging.basicConfig(format='%(asctime)s | %(levelname)s : %(message)s',\n",
    "                     level=logging.INFO, stream=sys.stdout)"
   ]
  },
  {
   "cell_type": "markdown",
   "metadata": {},
   "source": [
    "2. Load CIFAR10 dataset from torchvision"
   ]
  },
  {
   "cell_type": "code",
   "execution_count": null,
   "metadata": {},
   "outputs": [],
   "source": [
    "from torchvision.datasets import CIFAR10\n",
    "import torchvision.transforms as transforms\n",
    "\n",
    "root_dir = '/home/lebret/data'\n",
    "train_cifar10 = CIFAR10(root=root_dir, train=True, download=True,  transform=None)\n",
    "valid_cifar10 = CIFAR10(root=root_dir, train=False, download=True,  transform=None)\n"
   ]
  },
  {
   "cell_type": "markdown",
   "metadata": {},
   "source": [
    "3. Format inputs and labels for `mlmodule`"
   ]
  },
  {
   "cell_type": "code",
   "execution_count": null,
   "metadata": {},
   "outputs": [],
   "source": [
    "labels_dict = {0:\"airplane\", 1:\"automobile\", 2:\"bird\", 3:\"cat\", 4:\"deer\", 5:\"dog\", 6:\"frog\", 7:\"horse\", 8:\"ship\", 9:\"truck\"}\n",
    "train_samples = [(img, labels_dict[label]) for img, label in train_cifar10]\n",
    "train_images, train_labels = zip(*train_samples)"
   ]
  },
  {
   "cell_type": "markdown",
   "metadata": {},
   "source": [
    "4. Load `resnet18` pretrained model"
   ]
  },
  {
   "cell_type": "code",
   "execution_count": null,
   "metadata": {},
   "outputs": [],
   "source": [
    "torch_device = \"cuda\"\n",
    "resnet = TorchResNetModule(\n",
    "    resnet_arch=\"resnet18\", \n",
    "    device=torch_device,\n",
    "    training_mode=\"features\"\n",
    ")\n",
    "Store().load(resnet, StateKey(resnet.state_type, training_id=\"imagenet\"))\n"
   ]
  },
  {
   "cell_type": "markdown",
   "metadata": {},
   "source": [
    "5. Extract image features"
   ]
  },
  {
   "cell_type": "code",
   "execution_count": null,
   "metadata": {},
   "outputs": [],
   "source": [
    "# Callbacks\n",
    "ff = CollectFeaturesInMemory()\n",
    "\n",
    "# Runner\n",
    "runner = TorchInferenceRunner(\n",
    "    model=resnet,\n",
    "    dataset=ListDataset(train_images),\n",
    "    callbacks=[ff],\n",
    "    options=TorchRunnerOptions(\n",
    "        data_loader_options={'batch_size': 32},\n",
    "        device=torch_device, \n",
    "        tqdm_enabled=True\n",
    "    ),\n",
    ")\n",
    "runner.run()"
   ]
  },
  {
   "cell_type": "markdown",
   "metadata": {},
   "source": [
    "6. Create a linear classifier on top of ResNet features"
   ]
  },
  {
   "cell_type": "code",
   "execution_count": null,
   "metadata": {},
   "outputs": [],
   "source": [
    "from mlmodule.models.classification import LinearClassifierTorchModule\n",
    "\n",
    "labels = list(labels_dict.values())\n",
    "labels.sort()\n",
    "label_set = LabelSet(\n",
    "            label_set_unique_id=\"cifar10\",\n",
    "            label_list=labels\n",
    "        )\n",
    "        \n",
    "classifier = LinearClassifierTorchModule(\n",
    "    in_features=resnet.classifier_module.in_features,\n",
    "    label_set=label_set\n",
    ")"
   ]
  },
  {
   "cell_type": "markdown",
   "metadata": {},
   "source": [
    "7. Create train and validation splits"
   ]
  },
  {
   "cell_type": "code",
   "execution_count": null,
   "metadata": {},
   "outputs": [],
   "source": [
    "import torch\n",
    "\n",
    "# split samples into train and valid sets\n",
    "train_indices, valid_indices = torch.split(torch.randperm(len(ff.indices)), int(len(ff.indices)*.9))\n",
    "# define training set\n",
    "train_dset = TorchTrainingDataset(\n",
    "    dataset=ListDatasetIndexed(train_indices, ff.features[train_indices]),\n",
    "    targets=label_set.get_label_ids([train_labels[idx] for idx in train_indices])\n",
    ")\n",
    "# define valid set\n",
    "valid_dset = TorchTrainingDataset(\n",
    "    dataset=ListDatasetIndexed(valid_indices, ff.features[valid_indices]),\n",
    "    targets=label_set.get_label_ids([train_labels[idx] for idx in valid_indices])\n",
    ")"
   ]
  },
  {
   "cell_type": "markdown",
   "metadata": {},
   "source": [
    "8. Train the image classifier using `TorchTrainingRunner` module"
   ]
  },
  {
   "cell_type": "code",
   "execution_count": null,
   "metadata": {},
   "outputs": [],
   "source": [
    "from ignite.metrics import Precision, Recall, Loss, Accuracy\n",
    "import torch.nn.functional as F\n",
    "import torch.optim as optim\n",
    "\n",
    "precision = Precision(average=False)\n",
    "recall = Recall(average=False)\n",
    "F1 = (precision * recall * 2 / (precision + recall)).mean()\n",
    "\n",
    "loss_fn =  F.cross_entropy\n",
    "trainer = TorchTrainingRunner(\n",
    "    model=classifier,\n",
    "    dataset=(train_dset, valid_dset),\n",
    "    callbacks=[],\n",
    "    options=TorchTrainingOptions(\n",
    "        data_loader_options={'batch_size': 32},\n",
    "        criterion=loss_fn,\n",
    "        optimizer=optim.Adam(classifier.parameters(), lr=1e-3),\n",
    "        metrics={\n",
    "            \"pre\": precision,\n",
    "            \"recall\": recall,\n",
    "            \"f1\": F1,\n",
    "            \"acc\": Accuracy(),\n",
    "            \"ce_loss\": Loss(loss_fn),\n",
    "        },\n",
    "        validate_every=1,\n",
    "        num_epoch=5,\n",
    "        tqdm_enabled=True\n",
    "    ),\n",
    ")\n",
    "trainer.run()"
   ]
  }
 ],
 "metadata": {
  "interpreter": {
   "hash": "87ff38510d400b07e30cf74ae9dd54446c13e53a2020eb935b0a431823d158d6"
  },
  "kernelspec": {
   "display_name": "Python 3.9.12 (conda)",
   "language": "python",
   "name": "python3"
  },
  "language_info": {
   "codemirror_mode": {
    "name": "ipython",
    "version": 3
   },
   "file_extension": ".py",
   "mimetype": "text/x-python",
   "name": "python",
   "nbconvert_exporter": "python",
   "pygments_lexer": "ipython3",
   "version": "3.9.12"
  },
  "orig_nbformat": 4
 },
 "nbformat": 4,
 "nbformat_minor": 2
}
