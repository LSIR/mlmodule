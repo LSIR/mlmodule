{
 "cells": [
  {
   "cell_type": "markdown",
   "metadata": {},
   "source": [
    "# CIFAR10 Image Classification training\n",
    "\n",
    "In this notebook, we are training CIFAR10 image classification on top of ResNet18 features from ImageNet"
   ]
  },
  {
   "cell_type": "markdown",
   "metadata": {},
   "source": [
    "Import `mlmodule` modules for the task"
   ]
  },
  {
   "cell_type": "code",
   "execution_count": null,
   "metadata": {},
   "outputs": [],
   "source": [
    "from mlmodule.models.classification import LinearClassifierTorchModule\n",
    "from mlmodule.models.resnet.pretrained import torch_resnet_imagenet\n",
    "from mlmodule.models.densenet.pretrained import torch_densenet_imagenet\n",
    "from mlmodule.torch.runners import TorchTrainingRunner\n",
    "from mlmodule.torch.runners import TorchInferenceRunner\n",
    "from mlmodule.torch.runners import TorchInferenceMultiGPURunner\n",
    "from mlmodule.torch.options import TorchTrainingOptions\n",
    "from mlmodule.torch.options import TorchRunnerOptions\n",
    "from mlmodule.torch.options import TorchMultiGPURunnerOptions\n",
    "from mlmodule.labels.base import LabelSet\n",
    "from mlmodule.torch.datasets import (\n",
    "    ListDataset,\n",
    "    ListDatasetIndexed,\n",
    "    TorchTrainingDataset,\n",
    ")\n",
    "from mlmodule.callbacks.memory import CollectFeaturesInMemory, CollectLabelsInMemory\n",
    "from mlmodule.callbacks.states import SaveModelState\n",
    "from mlmodule.stores.local import LocalStateStore\n",
    "from mlmodule.states import StateKey\n",
    "\n",
    "import torch\n",
    "import torch.nn.functional as F\n",
    "import torch.optim as optim\n",
    "from torchvision.datasets import CIFAR10\n",
    "from ignite.metrics import Precision, Recall, Loss, Accuracy\n",
    "from sklearn.metrics import classification_report\n",
    "import os"
   ]
  },
  {
   "cell_type": "markdown",
   "metadata": {},
   "source": [
    "Enable logging into notebook"
   ]
  },
  {
   "cell_type": "code",
   "execution_count": null,
   "metadata": {},
   "outputs": [],
   "source": [
    "import logging\n",
    "import sys\n",
    "\n",
    "logging.basicConfig(\n",
    "    format=\"%(asctime)s | %(levelname)s : %(message)s\",\n",
    "    level=logging.INFO,\n",
    "    stream=sys.stdout,\n",
    ")"
   ]
  },
  {
   "cell_type": "markdown",
   "metadata": {},
   "source": [
    "Load CIFAR10 dataset from torchvision"
   ]
  },
  {
   "cell_type": "code",
   "execution_count": null,
   "metadata": {},
   "outputs": [],
   "source": [
    "root_dir = os.path.join(os.environ[\"HOME\"], \"torchvision-datasets\")\n",
    "train_cifar10 = CIFAR10(root=root_dir, train=True, download=True, transform=None)"
   ]
  },
  {
   "cell_type": "markdown",
   "metadata": {},
   "source": [
    "Format inputs and labels for `mlmodule`"
   ]
  },
  {
   "cell_type": "code",
   "execution_count": null,
   "metadata": {},
   "outputs": [],
   "source": [
    "labels_dict = {\n",
    "    0: \"airplane\",\n",
    "    1: \"automobile\",\n",
    "    2: \"bird\",\n",
    "    3: \"cat\",\n",
    "    4: \"deer\",\n",
    "    5: \"dog\",\n",
    "    6: \"frog\",\n",
    "    7: \"horse\",\n",
    "    8: \"ship\",\n",
    "    9: \"truck\",\n",
    "}\n",
    "train_samples = [(img, labels_dict[label]) for img, label in train_cifar10]\n",
    "train_images, train_labels = zip(*train_samples)"
   ]
  },
  {
   "cell_type": "markdown",
   "metadata": {},
   "source": [
    "Load `resnet18` pre-trained model"
   ]
  },
  {
   "cell_type": "code",
   "execution_count": null,
   "metadata": {
    "lines_to_next_cell": 2
   },
   "outputs": [],
   "source": [
    "torch_device = \"cuda\"\n",
    "resnet = torch_resnet_imagenet(\n",
    "    resnet_arch=\"resnet18\", device=torch_device, training_mode=\"features\"\n",
    ")"
   ]
  },
  {
   "cell_type": "markdown",
   "metadata": {},
   "source": [
    "Extract image features from ResNet with a single GPU"
   ]
  },
  {
   "cell_type": "code",
   "execution_count": null,
   "metadata": {},
   "outputs": [],
   "source": [
    "# Callbacks\n",
    "ff_train_resnet = CollectFeaturesInMemory()\n",
    "\n",
    "# Runner\n",
    "runner = TorchInferenceRunner(\n",
    "    model=resnet,\n",
    "    dataset=ListDataset(train_images),\n",
    "    callbacks=[ff_train_resnet],\n",
    "    options=TorchRunnerOptions(\n",
    "        data_loader_options={\"batch_size\": 32}, device=torch_device, tqdm_enabled=True\n",
    "    ),\n",
    ")\n",
    "runner.run()"
   ]
  },
  {
   "cell_type": "markdown",
   "metadata": {},
   "source": [
    "Create train and validation splits"
   ]
  },
  {
   "cell_type": "code",
   "execution_count": null,
   "metadata": {},
   "outputs": [],
   "source": [
    "# define the set of labels\n",
    "label_set = LabelSet(\n",
    "    label_set_unique_id=\"cifar10\", label_list=list(labels_dict.values())\n",
    ")\n",
    "\n",
    "# split samples into train and valid sets\n",
    "train_indices, valid_indices = torch.split(\n",
    "    torch.randperm(len(ff_train_resnet.indices)),\n",
    "    int(len(ff_train_resnet.indices) * 0.9),\n",
    ")\n",
    "# define training set\n",
    "train_dset = TorchTrainingDataset(\n",
    "    dataset=ListDatasetIndexed(train_indices, ff_train_resnet.features[train_indices]),\n",
    "    targets=label_set.get_label_ids([train_labels[idx] for idx in train_indices]),\n",
    ")\n",
    "# define valid set\n",
    "valid_dset = TorchTrainingDataset(\n",
    "    dataset=ListDatasetIndexed(valid_indices, ff_train_resnet.features[valid_indices]),\n",
    "    targets=label_set.get_label_ids([train_labels[idx] for idx in valid_indices]),\n",
    ")"
   ]
  },
  {
   "cell_type": "markdown",
   "metadata": {},
   "source": [
    "Train the image classifier using `TorchTrainingRunner` module"
   ]
  },
  {
   "cell_type": "code",
   "execution_count": null,
   "metadata": {},
   "outputs": [],
   "source": [
    "# define a classifier on top of resnet features\n",
    "classifier_resnet = LinearClassifierTorchModule(\n",
    "    in_features=ff_train_resnet.features.shape[1], label_set=label_set\n",
    ")\n",
    "\n",
    "# define the evaluation metrics\n",
    "precision = Precision(average=False)\n",
    "recall = Recall(average=False)\n",
    "F1 = (precision * recall * 2 / (precision + recall)).mean()\n",
    "\n",
    "# Callbacks\n",
    "exp_dir = os.path.join(os.environ[\"HOME\"], \"mlmodule-training\")\n",
    "os.makedirs(exp_dir, exist_ok=True)\n",
    "\n",
    "resnet_state = SaveModelState(\n",
    "    store=LocalStateStore(exp_dir),\n",
    "    state_key=StateKey(classifier_resnet.state_type, \"train-resnet\"),\n",
    ")\n",
    "\n",
    "# define a loss function\n",
    "loss_fn = F.cross_entropy\n",
    "\n",
    "# define the trainer\n",
    "trainer = TorchTrainingRunner(\n",
    "    model=classifier_resnet,\n",
    "    dataset=(train_dset, valid_dset),\n",
    "    callbacks=[resnet_state],\n",
    "    options=TorchTrainingOptions(\n",
    "        data_loader_options={\"batch_size\": 32},\n",
    "        criterion=loss_fn,\n",
    "        optimizer=optim.Adam(classifier_resnet.parameters(), lr=1e-3),\n",
    "        metrics={\n",
    "            \"pre\": precision,\n",
    "            \"recall\": recall,\n",
    "            \"f1\": F1,\n",
    "            \"acc\": Accuracy(),\n",
    "            \"ce_loss\": Loss(loss_fn),\n",
    "        },\n",
    "        validate_every=1,\n",
    "        checkpoint_every=3,\n",
    "        num_epoch=3,\n",
    "        tqdm_enabled=True,\n",
    "    ),\n",
    ")\n",
    "trainer.run()"
   ]
  },
  {
   "cell_type": "markdown",
   "metadata": {},
   "source": [
    "Do evaluation on the test set"
   ]
  },
  {
   "cell_type": "code",
   "execution_count": null,
   "metadata": {},
   "outputs": [],
   "source": [
    "test_cifar10 = CIFAR10(root=root_dir, train=False, download=True, transform=None)\n",
    "test_samples = [(img, labels_dict[label]) for img, label in test_cifar10]\n",
    "test_images, test_labels = zip(*test_samples)\n",
    "\n",
    "# Callbacks\n",
    "ff_test_resnet = CollectFeaturesInMemory()\n",
    "score_test_resnet = CollectLabelsInMemory()\n",
    "\n",
    "# Extract the image features\n",
    "runner = TorchInferenceRunner(\n",
    "    model=resnet,\n",
    "    dataset=ListDataset(test_images),\n",
    "    callbacks=[ff_test_resnet],\n",
    "    options=TorchRunnerOptions(\n",
    "        data_loader_options={\"batch_size\": 32}, device=torch_device, tqdm_enabled=True\n",
    "    ),\n",
    ")\n",
    "runner.run()\n",
    "\n",
    "# Do the predictions\n",
    "runner = TorchInferenceRunner(\n",
    "    model=classifier_resnet,\n",
    "    dataset=ListDataset(ff_test_resnet.features),\n",
    "    callbacks=[score_test_resnet],\n",
    "    options=TorchRunnerOptions(\n",
    "        data_loader_options={\"batch_size\": 32}, device=torch_device, tqdm_enabled=True\n",
    "    ),\n",
    ")\n",
    "runner.run()"
   ]
  },
  {
   "cell_type": "markdown",
   "metadata": {},
   "source": [
    "Print classification report"
   ]
  },
  {
   "cell_type": "code",
   "execution_count": null,
   "metadata": {},
   "outputs": [],
   "source": [
    "print(classification_report(test_labels, score_test_resnet.labels))"
   ]
  },
  {
   "cell_type": "markdown",
   "metadata": {},
   "source": [
    "Compare the classification performance with a deeper DenseNet model"
   ]
  },
  {
   "cell_type": "markdown",
   "metadata": {},
   "source": [
    "Load `densenet201` model"
   ]
  },
  {
   "cell_type": "code",
   "execution_count": null,
   "metadata": {},
   "outputs": [],
   "source": [
    "torch_device = \"cuda\"\n",
    "densenet = torch_densenet_imagenet(\n",
    "    densenet_arch=\"densenet201\",\n",
    "    device=torch_device,\n",
    ")"
   ]
  },
  {
   "cell_type": "markdown",
   "metadata": {},
   "source": [
    "Extract image features with multiple gpus"
   ]
  },
  {
   "cell_type": "code",
   "execution_count": null,
   "metadata": {},
   "outputs": [],
   "source": [
    "# Callbacks\n",
    "ff_train_densenet = CollectFeaturesInMemory()\n",
    "\n",
    "# Runner\n",
    "runner = TorchInferenceMultiGPURunner(\n",
    "    model=densenet,\n",
    "    dataset=ListDataset(train_images),\n",
    "    callbacks=[ff_train_densenet],\n",
    "    options=TorchMultiGPURunnerOptions(\n",
    "        data_loader_options={\"batch_size\": 32}, tqdm_enabled=True\n",
    "    ),\n",
    ")\n",
    "runner.run()"
   ]
  },
  {
   "cell_type": "markdown",
   "metadata": {},
   "source": [
    "Train a new classifier on top of densenet201 features"
   ]
  },
  {
   "cell_type": "code",
   "execution_count": null,
   "metadata": {},
   "outputs": [],
   "source": [
    "# define training set\n",
    "train_dset_densenet = TorchTrainingDataset(\n",
    "    dataset=ListDatasetIndexed(\n",
    "        train_indices, ff_train_densenet.features[train_indices]\n",
    "    ),\n",
    "    targets=label_set.get_label_ids([train_labels[idx] for idx in train_indices]),\n",
    ")\n",
    "# define valid set\n",
    "valid_dset_densenet = TorchTrainingDataset(\n",
    "    dataset=ListDatasetIndexed(\n",
    "        valid_indices, ff_train_densenet.features[valid_indices]\n",
    "    ),\n",
    "    targets=label_set.get_label_ids([train_labels[idx] for idx in valid_indices]),\n",
    ")"
   ]
  },
  {
   "cell_type": "code",
   "execution_count": null,
   "metadata": {},
   "outputs": [],
   "source": [
    "# define a classifier on top of resnet features\n",
    "classifier_densenet = LinearClassifierTorchModule(\n",
    "    in_features=ff_train_densenet.features.shape[1], label_set=label_set\n",
    ")\n",
    "# save state of the classifier on top of densenet features\n",
    "densenet_state = SaveModelState(\n",
    "    store=LocalStateStore(exp_dir),\n",
    "    state_key=StateKey(classifier_densenet.state_type, \"train-densenet\"),\n",
    ")\n",
    "\n",
    "# define the trainer\n",
    "trainer = TorchTrainingRunner(\n",
    "    model=classifier_densenet,\n",
    "    dataset=(train_dset_densenet, valid_dset_densenet),\n",
    "    callbacks=[densenet_state],\n",
    "    options=TorchTrainingOptions(\n",
    "        data_loader_options={\"batch_size\": 32},\n",
    "        criterion=loss_fn,\n",
    "        optimizer=optim.Adam(classifier_densenet.parameters(), lr=1e-3),\n",
    "        metrics={\n",
    "            \"pre\": precision,\n",
    "            \"recall\": recall,\n",
    "            \"f1\": F1,\n",
    "            \"acc\": Accuracy(),\n",
    "            \"ce_loss\": Loss(loss_fn),\n",
    "        },\n",
    "        validate_every=1,\n",
    "        checkpoint_every=3,\n",
    "        num_epoch=3,\n",
    "        tqdm_enabled=True,\n",
    "    ),\n",
    ")\n",
    "trainer.run()"
   ]
  },
  {
   "cell_type": "code",
   "execution_count": null,
   "metadata": {},
   "outputs": [],
   "source": [
    "# Callbacks\n",
    "ff_test_densenet = CollectFeaturesInMemory()\n",
    "score_test_densenet = CollectLabelsInMemory()\n",
    "\n",
    "# Extract the image features\n",
    "runner = TorchInferenceMultiGPURunner(\n",
    "    model=densenet,\n",
    "    dataset=ListDataset(test_images),\n",
    "    callbacks=[ff_test_densenet],\n",
    "    options=TorchMultiGPURunnerOptions(\n",
    "        data_loader_options={\"batch_size\": 32}, tqdm_enabled=True\n",
    "    ),\n",
    ")\n",
    "runner.run()\n",
    "\n",
    "# Do the predictions\n",
    "runner = TorchInferenceMultiGPURunner(\n",
    "    model=classifier_densenet,\n",
    "    dataset=ListDataset(ff_test_densenet.features),\n",
    "    callbacks=[score_test_densenet],\n",
    "    options=TorchMultiGPURunnerOptions(\n",
    "        data_loader_options={\"batch_size\": 32}, tqdm_enabled=True\n",
    "    ),\n",
    ")\n",
    "runner.run()\n",
    "\n",
    "print(classification_report(test_labels, score_test_densenet.labels))"
   ]
  },
  {
   "cell_type": "markdown",
   "metadata": {},
   "source": [
    "From the classification report we can see that performance with densenet201 are much better than the performance with resnet18."
   ]
  }
 ],
 "metadata": {
  "interpreter": {
   "hash": "ce546f547b4951e5134bea5436654c55db2fc56665558813e55e8a048d40e22c"
  },
  "jupytext": {
   "formats": "ipynb,md"
  },
  "kernelspec": {
   "display_name": "Python 3.7.10 ('mlmodule')",
   "language": "python",
   "name": "python3"
  },
  "language_info": {
   "codemirror_mode": {
    "name": "ipython",
    "version": 3
   },
   "file_extension": ".py",
   "mimetype": "text/x-python",
   "name": "python",
   "nbconvert_exporter": "python",
   "pygments_lexer": "ipython3",
   "version": "3.8.13"
  }
 },
 "nbformat": 4,
 "nbformat_minor": 2
}
