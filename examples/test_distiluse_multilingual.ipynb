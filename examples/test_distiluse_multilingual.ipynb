{
 "cells": [
  {
   "cell_type": "markdown",
   "metadata": {},
   "source": [
    "# Testing multilingual semantic text similarity"
   ]
  },
  {
   "cell_type": "code",
   "execution_count": null,
   "metadata": {},
   "outputs": [],
   "source": [
    "from mozuma.torch.runners import TorchInferenceRunner\n",
    "from mozuma.torch.options import TorchRunnerOptions\n",
    "from mozuma.models.sentences import torch_distiluse_base_multilingual_v2\n",
    "from mozuma.torch.datasets import ListDataset\n",
    "from mozuma.callbacks.memory import CollectFeaturesInMemory\n",
    "\n",
    "import torch\n",
    "import matplotlib.pyplot as plt\n",
    "import seaborn as sns\n",
    "\n",
    "sns.set(style=\"white\")\n",
    "%matplotlib inline"
   ]
  },
  {
   "cell_type": "markdown",
   "metadata": {},
   "source": [
    "1. Create lists of sentences in multiple languages\n",
    "\n",
    "Random sentences selected from https://tatoeba.org/en/"
   ]
  },
  {
   "cell_type": "code",
   "execution_count": null,
   "metadata": {},
   "outputs": [],
   "source": [
    "sentences1 = [\n",
    "    \"We were preparing food.\",\n",
    "    \"Ni preparis manĝaĵon.\",\n",
    "    \"Wij maakten eten klaar.\",\n",
    "    \"Nous préparâmes de la nourriture.\",\n",
    "    \"たちは食事の準備をした。\",\n",
    "    \"Preparamos comida.\",\n",
    "]\n",
    "sentences2 = [\n",
    "    \"Anĥizo interpretas la orakolon, kaj konvinkas la Trojanojn, ke temas pri la insulo Kreto, el kiu eliris unu el la unuatempaj fondintoj de Trojo.\",\n",
    "    \"Anchise explique l'oracle, et persuade aux Troyens qu'il s'agit de l'île de Crète, d'où est sorti un des anciens fondateurs de Troie.\",\n",
    "    \"Anquises interpreta o oráculo e convence os troianos de que se trata da ilha de Creta, da qual saiu um dos antigos fundadores de Troia.\",\n",
    "]\n",
    "sentences3 = [\n",
    "    \"Mi pensas, ke mi devus foriri, ĉar jam estas malfrue.\",\n",
    "    \"Je crois que je devrais partir car il se fait tard.\",\n",
    "    \"I think I must be leaving since it is getting late.\",\n",
    "]"
   ]
  },
  {
   "cell_type": "markdown",
   "metadata": {},
   "source": [
    "Define a `ListDataset`"
   ]
  },
  {
   "cell_type": "code",
   "execution_count": null,
   "metadata": {},
   "outputs": [],
   "source": [
    "dset = ListDataset(sentences1 + sentences2 + sentences3)"
   ]
  },
  {
   "cell_type": "markdown",
   "metadata": {},
   "source": [
    "2. Extract sentence feature vectors"
   ]
  },
  {
   "cell_type": "code",
   "execution_count": null,
   "metadata": {},
   "outputs": [],
   "source": [
    "# define sentence embedding model\n",
    "torch_device = torch.device(\"cpu\")\n",
    "model = torch_distiluse_base_multilingual_v2(device=torch_device)\n",
    "\n",
    "# define callback for collecting features\n",
    "sentence_features = CollectFeaturesInMemory()\n",
    "\n",
    "# define the runner\n",
    "runner = TorchInferenceRunner(\n",
    "    dataset=dset,\n",
    "    model=model,\n",
    "    callbacks=[sentence_features],\n",
    "    options=TorchRunnerOptions(\n",
    "        data_loader_options={\"batch_size\": 1}, device=model.device, tqdm_enabled=True\n",
    "    ),\n",
    ")\n",
    "runner.run()"
   ]
  },
  {
   "cell_type": "markdown",
   "metadata": {},
   "source": [
    "3. Compute sentence similarities"
   ]
  },
  {
   "cell_type": "code",
   "execution_count": null,
   "metadata": {},
   "outputs": [],
   "source": [
    "cos_sim = sentence_features.features @ sentence_features.features.T\n",
    "fig, ax = plt.subplots(figsize=(8, 6))\n",
    "ax = sns.heatmap(cos_sim, cmap=\"PuRd\", annot=True, fmt=\".1\")"
   ]
  },
  {
   "cell_type": "markdown",
   "metadata": {},
   "source": [
    "We can see on the heatmap below that similar sentences in multiple languages have high cosine similarity scores, while other sentences have low similarities."
   ]
  }
 ],
 "metadata": {
  "interpreter": {
   "hash": "87ff38510d400b07e30cf74ae9dd54446c13e53a2020eb935b0a431823d158d6"
  },
  "jupytext": {
   "formats": "ipynb,md"
  },
  "kernelspec": {
   "display_name": "Python 3.9.12 (conda)",
   "language": "python",
   "name": "python3"
  },
  "language_info": {
   "codemirror_mode": {
    "name": "ipython",
    "version": 3
   },
   "file_extension": ".py",
   "mimetype": "text/x-python",
   "name": "python",
   "nbconvert_exporter": "python",
   "pygments_lexer": "ipython3",
   "version": "3.9.12"
  }
 },
 "nbformat": 4,
 "nbformat_minor": 2
}
